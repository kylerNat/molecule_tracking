{
 "cells": [
  {
   "cell_type": "code",
   "execution_count": 160,
   "metadata": {},
   "outputs": [],
   "source": [
    "from __future__ import division, unicode_literals, print_function  # for compatibility with Python 2 and 3\n",
    "\n",
    "import matplotlib as mpl\n",
    "import matplotlib.pyplot as plt\n",
    "\n",
    "%matplotlib inline\n",
    "\n",
    "# Optionally, tweak styles.\n",
    "mpl.rc('figure',  figsize=(10, 5))\n",
    "mpl.rc('image', cmap='gray')\n",
    "import numpy as np\n",
    "import pandas as pd\n",
    "from pandas import DataFrame, Series  # for convenience"
   ]
  },
  {
   "cell_type": "code",
   "execution_count": 161,
   "metadata": {
    "scrolled": true
   },
   "outputs": [
    {
     "ename": "ValueError",
     "evalue": "zero-size array to reduction operation minimum which has no identity",
     "output_type": "error",
     "traceback": [
      "\u001b[1;31m---------------------------------------------------------------------------\u001b[0m",
      "\u001b[1;31mValueError\u001b[0m                                Traceback (most recent call last)",
      "\u001b[1;32m<ipython-input-161-9dd3848f06d1>\u001b[0m in \u001b[0;36m<module>\u001b[1;34m\u001b[0m\n\u001b[0;32m     40\u001b[0m         \u001b[1;32mreturn\u001b[0m \u001b[0mself\u001b[0m\u001b[1;33m.\u001b[0m\u001b[0m_dtype\u001b[0m\u001b[1;33m\u001b[0m\u001b[1;33m\u001b[0m\u001b[0m\n\u001b[0;32m     41\u001b[0m \u001b[1;33m\u001b[0m\u001b[0m\n\u001b[1;32m---> 42\u001b[1;33m \u001b[0mframes\u001b[0m \u001b[1;33m=\u001b[0m \u001b[0mSXMReader\u001b[0m\u001b[1;33m(\u001b[0m\u001b[1;34m\"data_high_density/*.sxm\"\u001b[0m\u001b[1;33m)\u001b[0m\u001b[1;33m\u001b[0m\u001b[1;33m\u001b[0m\u001b[0m\n\u001b[0m\u001b[0;32m     43\u001b[0m \u001b[1;31m#frames = SXMReader(\"data_hole_closing/*.sxm\")\u001b[0m\u001b[1;33m\u001b[0m\u001b[1;33m\u001b[0m\u001b[1;33m\u001b[0m\u001b[0m\n\u001b[0;32m     44\u001b[0m \u001b[1;31m#frames = SXMReader(\"data_hole_closing/*.sxm\")\u001b[0m\u001b[1;33m\u001b[0m\u001b[1;33m\u001b[0m\u001b[1;33m\u001b[0m\u001b[0m\n",
      "\u001b[1;32m<ipython-input-161-9dd3848f06d1>\u001b[0m in \u001b[0;36m__init__\u001b[1;34m(self, filename_pattern)\u001b[0m\n\u001b[0;32m     14\u001b[0m         \u001b[0mself\u001b[0m\u001b[1;33m.\u001b[0m\u001b[0mscans\u001b[0m \u001b[1;33m=\u001b[0m \u001b[1;33m[\u001b[0m\u001b[0mspm\u001b[0m\u001b[1;33m.\u001b[0m\u001b[0mSXM\u001b[0m\u001b[1;33m(\u001b[0m\u001b[0mfilename\u001b[0m\u001b[1;33m)\u001b[0m \u001b[1;32mfor\u001b[0m \u001b[0mfilename\u001b[0m \u001b[1;32min\u001b[0m \u001b[0mself\u001b[0m\u001b[1;33m.\u001b[0m\u001b[0mfilenames\u001b[0m\u001b[1;33m]\u001b[0m\u001b[1;33m\u001b[0m\u001b[1;33m\u001b[0m\u001b[0m\n\u001b[0;32m     15\u001b[0m         \u001b[0mself\u001b[0m\u001b[1;33m.\u001b[0m\u001b[0mz_data\u001b[0m \u001b[1;33m=\u001b[0m \u001b[0mnp\u001b[0m\u001b[1;33m.\u001b[0m\u001b[0marray\u001b[0m\u001b[1;33m(\u001b[0m\u001b[1;33m[\u001b[0m\u001b[0ms\u001b[0m\u001b[1;33m.\u001b[0m\u001b[0mget_channel\u001b[0m\u001b[1;33m(\u001b[0m\u001b[1;34m\"Z\"\u001b[0m\u001b[1;33m)\u001b[0m\u001b[1;33m.\u001b[0m\u001b[0mcorrect_plane\u001b[0m\u001b[1;33m(\u001b[0m\u001b[1;33m)\u001b[0m\u001b[1;33m.\u001b[0m\u001b[0mpixels\u001b[0m \u001b[1;32mfor\u001b[0m \u001b[0ms\u001b[0m \u001b[1;32min\u001b[0m \u001b[0mself\u001b[0m\u001b[1;33m.\u001b[0m\u001b[0mscans\u001b[0m\u001b[1;33m]\u001b[0m\u001b[1;33m)\u001b[0m\u001b[1;33m\u001b[0m\u001b[1;33m\u001b[0m\u001b[0m\n\u001b[1;32m---> 16\u001b[1;33m         \u001b[0mmin_z\u001b[0m \u001b[1;33m=\u001b[0m \u001b[0mnp\u001b[0m\u001b[1;33m.\u001b[0m\u001b[0mmin\u001b[0m\u001b[1;33m(\u001b[0m\u001b[0mself\u001b[0m\u001b[1;33m.\u001b[0m\u001b[0mz_data\u001b[0m\u001b[1;33m)\u001b[0m\u001b[1;33m\u001b[0m\u001b[1;33m\u001b[0m\u001b[0m\n\u001b[0m\u001b[0;32m     17\u001b[0m         \u001b[0mmax_z\u001b[0m \u001b[1;33m=\u001b[0m \u001b[0mnp\u001b[0m\u001b[1;33m.\u001b[0m\u001b[0mmax\u001b[0m\u001b[1;33m(\u001b[0m\u001b[0mself\u001b[0m\u001b[1;33m.\u001b[0m\u001b[0mz_data\u001b[0m\u001b[1;33m)\u001b[0m\u001b[1;33m\u001b[0m\u001b[1;33m\u001b[0m\u001b[0m\n\u001b[0;32m     18\u001b[0m         \u001b[0mself\u001b[0m\u001b[1;33m.\u001b[0m\u001b[0mz_data\u001b[0m \u001b[1;33m-=\u001b[0m \u001b[0mmin_z\u001b[0m\u001b[1;33m\u001b[0m\u001b[1;33m\u001b[0m\u001b[0m\n",
      "\u001b[1;32m<__array_function__ internals>\u001b[0m in \u001b[0;36mamin\u001b[1;34m(*args, **kwargs)\u001b[0m\n",
      "\u001b[1;32mc:\\program files\\python38\\lib\\site-packages\\numpy\\core\\fromnumeric.py\u001b[0m in \u001b[0;36mamin\u001b[1;34m(a, axis, out, keepdims, initial, where)\u001b[0m\n\u001b[0;32m   2790\u001b[0m     \u001b[1;36m6\u001b[0m\u001b[1;33m\u001b[0m\u001b[1;33m\u001b[0m\u001b[0m\n\u001b[0;32m   2791\u001b[0m     \"\"\"\n\u001b[1;32m-> 2792\u001b[1;33m     return _wrapreduction(a, np.minimum, 'min', axis, None, out,\n\u001b[0m\u001b[0;32m   2793\u001b[0m                           keepdims=keepdims, initial=initial, where=where)\n\u001b[0;32m   2794\u001b[0m \u001b[1;33m\u001b[0m\u001b[0m\n",
      "\u001b[1;32mc:\\program files\\python38\\lib\\site-packages\\numpy\\core\\fromnumeric.py\u001b[0m in \u001b[0;36m_wrapreduction\u001b[1;34m(obj, ufunc, method, axis, dtype, out, **kwargs)\u001b[0m\n\u001b[0;32m     88\u001b[0m                 \u001b[1;32mreturn\u001b[0m \u001b[0mreduction\u001b[0m\u001b[1;33m(\u001b[0m\u001b[0maxis\u001b[0m\u001b[1;33m=\u001b[0m\u001b[0maxis\u001b[0m\u001b[1;33m,\u001b[0m \u001b[0mout\u001b[0m\u001b[1;33m=\u001b[0m\u001b[0mout\u001b[0m\u001b[1;33m,\u001b[0m \u001b[1;33m**\u001b[0m\u001b[0mpasskwargs\u001b[0m\u001b[1;33m)\u001b[0m\u001b[1;33m\u001b[0m\u001b[1;33m\u001b[0m\u001b[0m\n\u001b[0;32m     89\u001b[0m \u001b[1;33m\u001b[0m\u001b[0m\n\u001b[1;32m---> 90\u001b[1;33m     \u001b[1;32mreturn\u001b[0m \u001b[0mufunc\u001b[0m\u001b[1;33m.\u001b[0m\u001b[0mreduce\u001b[0m\u001b[1;33m(\u001b[0m\u001b[0mobj\u001b[0m\u001b[1;33m,\u001b[0m \u001b[0maxis\u001b[0m\u001b[1;33m,\u001b[0m \u001b[0mdtype\u001b[0m\u001b[1;33m,\u001b[0m \u001b[0mout\u001b[0m\u001b[1;33m,\u001b[0m \u001b[1;33m**\u001b[0m\u001b[0mpasskwargs\u001b[0m\u001b[1;33m)\u001b[0m\u001b[1;33m\u001b[0m\u001b[1;33m\u001b[0m\u001b[0m\n\u001b[0m\u001b[0;32m     91\u001b[0m \u001b[1;33m\u001b[0m\u001b[0m\n\u001b[0;32m     92\u001b[0m \u001b[1;33m\u001b[0m\u001b[0m\n",
      "\u001b[1;31mValueError\u001b[0m: zero-size array to reduction operation minimum which has no identity"
     ]
    }
   ],
   "source": [
    "import pims\n",
    "import pySPM as spm \n",
    "import trackpy as tp\n",
    "import glob\n",
    "\n",
    "#@pims.pipeline\n",
    "#def gray(image):\n",
    "#    return image[:, :, 1]  # Take just the green channel\n",
    "#frames = gray(pims.open('../track_molecules/*.bmp'))\n",
    "\n",
    "class SXMReader(pims.FramesSequence):\n",
    "    def __init__(self, filename_pattern):\n",
    "        self.filenames = glob.glob(filename_pattern)\n",
    "        self.scans = [spm.SXM(filename) for filename in self.filenames]\n",
    "        self.z_data = np.array([s.get_channel(\"Z\").correct_plane().pixels for s in self.scans])\n",
    "        min_z = np.min(self.z_data)\n",
    "        max_z = np.max(self.z_data)\n",
    "        self.z_data -= min_z\n",
    "        self.z_data /= max_z-min_z\n",
    "        self._len = len(self.z_data)\n",
    "        self._dtype = self.z_data.dtype\n",
    "        self._frame_shape = self.z_data[0].shape\n",
    "        self.scan_size = self.scans[0].size\n",
    "        self.meters_per_pixel = self.scan_size['real']['x']/self.scan_size['pixels']['x']\n",
    "       \n",
    "    def get_frame(self, i):\n",
    "        # Access the data you need and get it into a numpy array.\n",
    "        # Then return a Frame like so:\n",
    "        return pims.Frame(self.z_data[i], frame_no=i)\n",
    "\n",
    "    def __len__(self):\n",
    "        return self._len\n",
    "\n",
    "    @property\n",
    "    def frame_shape(self):\n",
    "        return self._frame_shape\n",
    "\n",
    "    @property\n",
    "    def pixel_type(self):\n",
    "        return self._dtype\n",
    "\n",
    "frames = SXMReader(\"data_high_density/*.sxm\")\n",
    "#frames = SXMReader(\"data_hole_closing/*.sxm\")\n",
    "#frames = SXMReader(\"data_hole_closing/*.sxm\")\n",
    "#print(frames[0])\n",
    "    \n",
    "#plt.imshow(frames[7])"
   ]
  },
  {
   "cell_type": "code",
   "execution_count": null,
   "metadata": {},
   "outputs": [],
   "source": [
    "molecule_size = 9 \n",
    "\"\"\"\n",
    "f = tp.locate(frames[7], molecule_size, minmass=1)\n",
    "tp.annotate(f, frames[7])\n",
    "\n",
    "fig, ax = plt.subplots()\n",
    "ax.hist(f['mass'], bins=20)\n",
    "\n",
    "# Optionally, label the axes.\n",
    "ax.set(xlabel='mass', ylabel='count');\n",
    "\"\"\"\n",
    "\n",
    "f = tp.batch(frames[:], molecule_size, minmass=1)\n",
    "#tp.quiet()  # Turn off progress reports for best performance"
   ]
  },
  {
   "cell_type": "code",
   "execution_count": null,
   "metadata": {
    "scrolled": true
   },
   "outputs": [],
   "source": [
    "plt.figure()\n",
    "\n",
    "for i,frame in enumerate(frames):\n",
    "    tp.annotate(f[f['frame']==i], frame)"
   ]
  },
  {
   "cell_type": "code",
   "execution_count": null,
   "metadata": {},
   "outputs": [],
   "source": [
    "t = tp.link(f, search_range=40, adaptive_stop=5, memory=3)\n",
    "plt.figure()\n",
    "tp.mass_size(t.groupby('particle').mean()); # convenience function -- just plots size vs. mass\n",
    "tp.mass_ecc(t.groupby('particle').mean()); # convenience function -- just plots size vs. mass"
   ]
  },
  {
   "cell_type": "code",
   "execution_count": null,
   "metadata": {},
   "outputs": [],
   "source": [
    "t1 = t[((t['mass'] > 5) & (t['size'] > 3.0) &\n",
    "         (t['ecc'] < 0.3))]\n",
    "t2 = tp.filter_stubs(t, 1)\n",
    "\n",
    "# Compare the number of particles in the unfiltered and filtered data.\n",
    "print('Before:', t['particle'].nunique())\n",
    "print('After:', t2['particle'].nunique())"
   ]
  },
  {
   "cell_type": "code",
   "execution_count": null,
   "metadata": {
    "scrolled": true
   },
   "outputs": [],
   "source": [
    "for i,frame in enumerate(frames):\n",
    "    tp.plot_traj(t2[t2['frame']<=i], superimpose=frame);"
   ]
  },
  {
   "cell_type": "code",
   "execution_count": null,
   "metadata": {},
   "outputs": [],
   "source": [
    "plt.figure()\n",
    "tp.mass_size(t.groupby('particle').mean()); # convenience function -- just plots size vs. mass\n",
    "tp.mass_ecc(t.groupby('particle').mean()); # convenience function -- just plots size vs. mass"
   ]
  },
  {
   "cell_type": "code",
   "execution_count": null,
   "metadata": {},
   "outputs": [],
   "source": [
    "plt.figure()\n",
    "#tp.plot_traj(t2, superimpose=frames[0]);\n",
    "#tp.plot_traj(t2[t2['particle']==37], superimpose=frames[0]);"
   ]
  },
  {
   "cell_type": "code",
   "execution_count": null,
   "metadata": {},
   "outputs": [],
   "source": [
    "frame_n=3\n",
    "tp.annotate(f[f['frame'] == frame_n], frames[frame_n])\n",
    "tp.annotate(t1[t1['frame'] == frame_n], frames[frame_n])\n",
    "tp.annotate(t2[t2['frame'] == frame_n], frames[frame_n])"
   ]
  },
  {
   "cell_type": "code",
   "execution_count": null,
   "metadata": {},
   "outputs": [],
   "source": [
    "d = tp.compute_drift(t2)\n",
    "t3 = tp.subtract_drift(t2.copy(), d)\n",
    "print(d)"
   ]
  },
  {
   "cell_type": "code",
   "execution_count": null,
   "metadata": {},
   "outputs": [],
   "source": [
    "good_particles = []\n",
    "bad_particles = []\n",
    "t4 = t3.groupby('particle').filter(lambda x: len(x) >= 2)\n",
    "def is_track_good(track):\n",
    "    x = track['x'].values\n",
    "    y = track['y'].values\n",
    "    denan = lambda x: x[~np.isnan(x)]\n",
    "    x = denan(x) \n",
    "    y = denan(y) \n",
    "    pos = np.array([x,y]).T\n",
    "    delta = pos[1:]-pos[:-1]\n",
    "    mean_square = np.einsum(\"ij, ij->i\", delta, delta)\n",
    "    good = np.max(mean_square) > (2.0e-9/frames.meters_per_pixel)**2\n",
    "    (good_particles if good else bad_particles).append(track['particle'].values[0])\n",
    "    return good \n",
    "#movement_filter = t4.groupby('particle').apply(is_track_good).values\n",
    "tm = t4.groupby('particle').filter(is_track_good)\n",
    "print(\"bad:\", bad_particles)\n",
    "plt.figure()\n",
    "plt.title(\"bad tracks\")\n",
    "tp.plot_traj(t4.groupby('particle').filter(lambda x: not is_track_good(x)), mpp=(frames.meters_per_pixel*1e6), superimpose=frames[0]);\n",
    "print(\"good:\", good_particles)\n",
    "plt.title(\"good tracks\")\n",
    "tp.plot_traj(tm, mpp=(frames.meters_per_pixel*1e6), superimpose=frames[0]);\n",
    "im = tp.imsd(tm, 1e6*frames.meters_per_pixel, 1)  # microns per pixel = 100/285., frames per second = 24\n",
    "#im = im.T[movement_filter].T \n",
    "print(im)"
   ]
  },
  {
   "cell_type": "code",
   "execution_count": null,
   "metadata": {},
   "outputs": [],
   "source": [
    "fig, ax = plt.subplots()\n",
    "ax.plot(im.index, im, 'k-', alpha=0.1)  # black lines, semitransparent\n",
    "ax.set(ylabel=r'$\\langle \\Delta r^2 \\rangle$ [nm$^2$]',\n",
    "       xlabel='lag time $t$')\n",
    "ax.set_xscale('log')\n",
    "ax.set_yscale('log')"
   ]
  },
  {
   "cell_type": "code",
   "execution_count": null,
   "metadata": {},
   "outputs": [],
   "source": [
    "em = tp.emsd(tm, frames.meters_per_pixel*1e6, 1) # microns per pixel = 100/285., frames per second = 24\n",
    "fig, ax = plt.subplots()\n",
    "ax.plot(em.index, em, 'o')\n",
    "#ax.set_xscale('log')\n",
    "#ax.set_yscale('log')\n",
    "ax.set(ylabel=r'$\\langle \\Delta r^2 \\rangle$ [nm$^2$]',\n",
    "       xlabel='lag time $t$')\n",
    "#ax.set(ylim=(1e-2, 10));\n",
    "fig.savefig('diffusion.png')"
   ]
  },
  {
   "cell_type": "code",
   "execution_count": null,
   "metadata": {},
   "outputs": [],
   "source": [
    "fig=plt.figure()\n",
    "plt.ylabel(r'$\\langle \\Delta r^2 \\rangle$ [$\\mu$m$^2$]')\n",
    "plt.xlabel('lag time $t$');\n",
    "tp.utils.fit_powerlaw(em)  # performs linear best fit in log space, plots]"
   ]
  },
  {
   "cell_type": "code",
   "execution_count": null,
   "metadata": {},
   "outputs": [],
   "source": []
  },
  {
   "cell_type": "code",
   "execution_count": null,
   "metadata": {},
   "outputs": [],
   "source": []
  }
 ],
 "metadata": {
  "kernelspec": {
   "display_name": "Python 3",
   "language": "python",
   "name": "python3"
  },
  "language_info": {
   "codemirror_mode": {
    "name": "ipython",
    "version": 3
   },
   "file_extension": ".py",
   "mimetype": "text/x-python",
   "name": "python",
   "nbconvert_exporter": "python",
   "pygments_lexer": "ipython3",
   "version": "3.8.1"
  }
 },
 "nbformat": 4,
 "nbformat_minor": 4
}
